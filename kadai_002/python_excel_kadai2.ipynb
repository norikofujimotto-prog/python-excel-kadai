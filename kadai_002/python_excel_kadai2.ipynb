{
  "nbformat": 4,
  "nbformat_minor": 0,
  "metadata": {
    "colab": {
      "provenance": []
    },
    "kernelspec": {
      "name": "python3",
      "display_name": "Python 3"
    },
    "language_info": {
      "name": "python"
    }
  },
  "cells": [
    {
      "cell_type": "code",
      "execution_count": 1,
      "metadata": {
        "colab": {
          "base_uri": "https://localhost:8080/"
        },
        "id": "I6ehCS0VOLUJ",
        "outputId": "6a789925-c4f9-4e2d-ac62-b72ee2f5757c"
      },
      "outputs": [
        {
          "output_type": "stream",
          "name": "stdout",
          "text": [
            "Requirement already satisfied: numpy in /usr/local/lib/python3.12/dist-packages (2.0.2)\n",
            "Requirement already satisfied: pandas in /usr/local/lib/python3.12/dist-packages (2.2.2)\n",
            "Requirement already satisfied: openpyxl in /usr/local/lib/python3.12/dist-packages (3.1.5)\n",
            "Requirement already satisfied: python-dateutil>=2.8.2 in /usr/local/lib/python3.12/dist-packages (from pandas) (2.9.0.post0)\n",
            "Requirement already satisfied: pytz>=2020.1 in /usr/local/lib/python3.12/dist-packages (from pandas) (2025.2)\n",
            "Requirement already satisfied: tzdata>=2022.7 in /usr/local/lib/python3.12/dist-packages (from pandas) (2025.2)\n",
            "Requirement already satisfied: et-xmlfile in /usr/local/lib/python3.12/dist-packages (from openpyxl) (2.0.0)\n",
            "Requirement already satisfied: six>=1.5 in /usr/local/lib/python3.12/dist-packages (from python-dateutil>=2.8.2->pandas) (1.17.0)\n"
          ]
        }
      ],
      "source": [
        "!pip install numpy pandas openpyxl"
      ]
    },
    {
      "cell_type": "code",
      "source": [
        "import pandas as pd\n",
        "\n",
        "# データフレームの作成\n",
        "df = pd.DataFrame({\n",
        "    '日付':\n",
        "      ['2023-05-17', '2023-05-18', '2023-05-19', '2023-05-20', '2023-05-21'],\n",
        "    '社員名': ['山田', '佐藤', '鈴木', '田中', '高橋'],\n",
        "    '売上': [100, 200, 150, 300, 250],\n",
        "    '部門': ['メーカー', '代理店', 'メーカー', '商社', '代理店'],\n",
        "})\n",
        "\n",
        "print(df)"
      ],
      "metadata": {
        "colab": {
          "base_uri": "https://localhost:8080/"
        },
        "id": "zNrHI7pTAARS",
        "outputId": "1e073777-12dc-45b3-8cc6-4f8ab1acb7d3"
      },
      "execution_count": 14,
      "outputs": [
        {
          "output_type": "stream",
          "name": "stdout",
          "text": [
            "           日付 社員名   売上    部門\n",
            "0  2023-05-17  山田  100  メーカー\n",
            "1  2023-05-18  佐藤  200   代理店\n",
            "2  2023-05-19  鈴木  150  メーカー\n",
            "3  2023-05-20  田中  300    商社\n",
            "4  2023-05-21  高橋  250   代理店\n"
          ]
        }
      ]
    },
    {
      "cell_type": "code",
      "source": [
        "# 「平均売上」列を作成し、全体の売上の平均を算出\n",
        "df['平均売上'] = df['売上'].mean()\n",
        "\n",
        "print(df)\n"
      ],
      "metadata": {
        "colab": {
          "base_uri": "https://localhost:8080/"
        },
        "id": "wIFOG7rDAAMi",
        "outputId": "d2b4df5d-330e-4294-c19b-f481a73e12d6"
      },
      "execution_count": 16,
      "outputs": [
        {
          "output_type": "stream",
          "name": "stdout",
          "text": [
            "           日付 社員名   売上    部門   平均売上\n",
            "0  2023-05-17  山田  100  メーカー  200.0\n",
            "1  2023-05-18  佐藤  200   代理店  200.0\n",
            "2  2023-05-19  鈴木  150  メーカー  200.0\n",
            "3  2023-05-20  田中  300    商社  200.0\n",
            "4  2023-05-21  高橋  250   代理店  200.0\n"
          ]
        }
      ]
    },
    {
      "cell_type": "code",
      "source": [
        "def performance(level):\n",
        "  result = '';\n",
        "  if level >= 250:\n",
        "    result = 'A'\n",
        "  elif level >= 200:\n",
        "    result = 'B'\n",
        "  else:\n",
        "    result = 'C'\n",
        "  return result\n",
        "\n",
        "df['業績ランク'] = df['売上'].apply(performance)\n",
        "\n",
        "print(df)"
      ],
      "metadata": {
        "colab": {
          "base_uri": "https://localhost:8080/"
        },
        "id": "Yl_Uqv2JLbWf",
        "outputId": "bcfab70b-6926-43e6-b36f-5ef58664c829"
      },
      "execution_count": 34,
      "outputs": [
        {
          "output_type": "stream",
          "name": "stdout",
          "text": [
            "           日付 社員名   売上    部門   平均売上 業績ランク\n",
            "0  2023-05-17  山田  100  メーカー  200.0     C\n",
            "1  2023-05-18  佐藤  200   代理店  200.0     B\n",
            "2  2023-05-19  鈴木  150  メーカー  200.0     C\n",
            "3  2023-05-20  田中  300    商社  200.0     A\n",
            "4  2023-05-21  高橋  250   代理店  200.0     A\n"
          ]
        }
      ]
    },
    {
      "cell_type": "code",
      "source": [
        "# Excelファイルを作成\n",
        "writer = pd.ExcelWriter('業績.xlsx')\n",
        "\n",
        "# DataFrameオブジェクトをExcelファイルに書き込む\n",
        "df.to_excel(writer, sheet_name='Sheet1', index=False)\n",
        "\n",
        "print(df)"
      ],
      "metadata": {
        "colab": {
          "base_uri": "https://localhost:8080/"
        },
        "id": "GCBoDRrvN7Q_",
        "outputId": "783b48ec-c516-47bc-cec4-4aa1c9318bba"
      },
      "execution_count": 35,
      "outputs": [
        {
          "output_type": "stream",
          "name": "stdout",
          "text": [
            "           日付 社員名   売上    部門   平均売上 業績ランク\n",
            "0  2023-05-17  山田  100  メーカー  200.0     C\n",
            "1  2023-05-18  佐藤  200   代理店  200.0     B\n",
            "2  2023-05-19  鈴木  150  メーカー  200.0     C\n",
            "3  2023-05-20  田中  300    商社  200.0     A\n",
            "4  2023-05-21  高橋  250   代理店  200.0     A\n"
          ]
        }
      ]
    },
    {
      "cell_type": "code",
      "source": [
        "# Excelファイルを閉じる\n",
        "writer.close()"
      ],
      "metadata": {
        "id": "IE6mRgvLJ4fi"
      },
      "execution_count": 36,
      "outputs": []
    }
  ]
}